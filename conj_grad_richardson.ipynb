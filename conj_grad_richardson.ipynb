{
 "cells": [
  {
   "cell_type": "code",
   "execution_count": 1,
   "metadata": {},
   "outputs": [],
   "source": [
    "import numpy as np\n",
    "import copy\n",
    "import matplotlib.pyplot as plt"
   ]
  },
  {
   "cell_type": "markdown",
   "metadata": {},
   "source": [
    "Parameters and function setting"
   ]
  },
  {
   "cell_type": "code",
   "execution_count": 2,
   "metadata": {},
   "outputs": [],
   "source": [
    "def solution(x, y):\n",
    "    return np.sin(3.0 * np.pi * x ** 2 * y) + (y - 1.0) ** 3"
   ]
  },
  {
   "cell_type": "code",
   "execution_count": 3,
   "metadata": {},
   "outputs": [],
   "source": [
    "def f(x, y):\n",
    "    return 18 * np.pi * (np.pi * x ** 2 * np.sin(3 * np.pi * x ** 2 * y) * (x ** 2 + 6 * y ** 2) - y * np.cos(3 * np.pi * x ** 2 * y)) - 12 * (y - 1)"
   ]
  },
  {
   "cell_type": "code",
   "execution_count": 4,
   "metadata": {},
   "outputs": [],
   "source": [
    "def a(x, y):\n",
    "    return 3\n",
    "\n",
    "def b(x, y):\n",
    "    return 2"
   ]
  },
  {
   "cell_type": "markdown",
   "metadata": {},
   "source": [
    "Mapping function"
   ]
  },
  {
   "cell_type": "code",
   "execution_count": 5,
   "metadata": {},
   "outputs": [],
   "source": [
    "def idx(i, j, N):\n",
    "    return (j-1) * (N - 1) + (i-1)"
   ]
  },
  {
   "cell_type": "markdown",
   "metadata": {},
   "source": [
    "SLAE compilation"
   ]
  },
  {
   "cell_type": "code",
   "execution_count": 6,
   "metadata": {},
   "outputs": [],
   "source": [
    "def SLAE_compilation(N: int):\n",
    "    h = 1.0 / N\n",
    "    size = (N - 1) ** 2 \n",
    "    \n",
    "    A = np.zeros((size, size))\n",
    "    rhs = np.zeros(size)\n",
    "    \n",
    "    coeff_x = a(0, 0) / h**2\n",
    "    coeff_y = b(0, 0) / h**2\n",
    "    \n",
    "    for j in range(1, N):  # y\n",
    "        for i in range(1, N):  # x\n",
    "            k = idx(i, j, N=N)\n",
    "            x, y = i*h, j*h\n",
    "            \n",
    "            # diagonal\n",
    "            A[k, k] = 2*(a(0, 0)+b(0, 0))/h**2\n",
    "            rhs[k] = f(x, y) \n",
    "            \n",
    "            # neighbours\n",
    "            # east (i+1,j)\n",
    "            if i < N-1:\n",
    "                A[k, idx(i+1,j, N)] = -coeff_x\n",
    "            else:  # border x=1\n",
    "                rhs[k] += coeff_x * solution(1.0, y)\n",
    "            \n",
    "            # west (i-1,j)\n",
    "            if i > 1:\n",
    "                A[k, idx(i-1,j, N)] = -coeff_x\n",
    "            else:  # border x=0\n",
    "                rhs[k] += coeff_x * solution(0.0, y)\n",
    "            \n",
    "            # nord (i,j+1)\n",
    "            if j < N-1:\n",
    "                A[k, idx(i,j+1, N)] = -coeff_y\n",
    "            else:  # border y=1\n",
    "                rhs[k] += coeff_y * solution(x, 1.0)\n",
    "            \n",
    "            # sud (i,j-1)\n",
    "            if j > 1:\n",
    "                A[k, idx(i,j-1, N)] = -coeff_y\n",
    "            else:  # border y=0\n",
    "                rhs[k] += coeff_y * solution(x, 0.0)\n",
    "    \n",
    "    return A, rhs"
   ]
  },
  {
   "cell_type": "markdown",
   "metadata": {},
   "source": [
    "Exact solution vector"
   ]
  },
  {
   "cell_type": "code",
   "execution_count": 7,
   "metadata": {},
   "outputs": [],
   "source": [
    "def exact_vector(N):\n",
    "    h = 1.0 / N\n",
    "    u_ex = np.zeros((N-1)**2)\n",
    "    k = 0\n",
    "    for j in range(1, N):\n",
    "        for i in range(1, N):\n",
    "            x, y = i*h, j*h\n",
    "            u_ex[k] = solution(x, y)\n",
    "            k += 1\n",
    "    return u_ex\n"
   ]
  },
  {
   "cell_type": "markdown",
   "metadata": {},
   "source": [
    "Conjugate gradient method"
   ]
  },
  {
   "cell_type": "code",
   "execution_count": 8,
   "metadata": {},
   "outputs": [],
   "source": [
    "def conjugate_gradient(A: np.ndarray, b_vec: np.ndarray, eps: float, max_it: int) -> np.ndarray:\n",
    "    it = 0\n",
    "\n",
    "    x_cur = np.zeros_like(b_vec)\n",
    "    r_cur = b_vec - A @ x_cur\n",
    "    p_cur = copy.deepcopy(r_cur)\n",
    "\n",
    "    while np.linalg.norm(r_cur) > eps and it < max_it:\n",
    "        r_prev = copy.deepcopy(r_cur)\n",
    "        p_prev = copy.deepcopy(p_cur)\n",
    "        alpha_prev = np.dot(r_prev, r_prev) / np.dot(A @ p_prev, p_prev)\n",
    "        x_prev = copy.deepcopy(x_cur)\n",
    "        x_cur = x_prev + alpha_prev * p_prev\n",
    "        r_cur = r_prev - alpha_prev * A @ p_prev\n",
    "        beta_prev = np.dot(r_cur, r_cur) / np.dot(r_prev, r_prev)\n",
    "        p_cur = r_cur + beta_prev * p_prev\n",
    "        # print(f\"norm(r_cur) = {np.linalg.norm(r_cur)}\\n\")\n",
    "        it += 1\n",
    "    return x_cur, it"
   ]
  },
  {
   "cell_type": "markdown",
   "metadata": {},
   "source": [
    "Richardson method"
   ]
  },
  {
   "cell_type": "code",
   "execution_count": 9,
   "metadata": {},
   "outputs": [],
   "source": [
    "def Richardson(A: np.ndarray, b_vec: np.ndarray, eps: float, max_it: int) -> np.ndarray:\n",
    "    it = 0\n",
    "\n",
    "    eigvals = np.linalg.eigvals(A)\n",
    "    lambda_max = max(np.abs(eigvals))\n",
    "    \n",
    "    tau = 1.0 / lambda_max \n",
    "\n",
    "    x = np.zeros_like(b_vec)\n",
    "    r = A @ x - b_vec\n",
    "    while np.linalg.norm(r) > eps and it < max_it:\n",
    "        x = x - tau * r\n",
    "        r = A @ x - b_vec\n",
    "        # print(f\"norm(r) = {np.linalg.norm(r)}\\n\")\n",
    "        it += 1\n",
    "\n",
    "    return x, it"
   ]
  },
  {
   "cell_type": "markdown",
   "metadata": {},
   "source": [
    "Numerical experiments"
   ]
  },
  {
   "cell_type": "markdown",
   "metadata": {},
   "source": [
    "1) Error on iterations number"
   ]
  },
  {
   "cell_type": "code",
   "execution_count": null,
   "metadata": {},
   "outputs": [],
   "source": [
    "number_of_nodes = np.arange(4, 30, 5)\n",
    "max_iterations_numbers = np.arange(1, 101, 10)\n",
    "\n",
    "eps = 1e-20\n",
    "\n",
    "fig, axes = plt.subplots(2, 3, figsize=(15, 8))\n",
    "axes = axes.ravel() \n",
    "\n",
    "for index, N in enumerate(number_of_nodes):\n",
    "    A, b_vec = SLAE_compilation(N)\n",
    "    errors_cg = []\n",
    "    errors_rich = []\n",
    "    numbers_of_iterations = []\n",
    "\n",
    "    u_ex = exact_vector(N)\n",
    "\n",
    "    for max_it in max_iterations_numbers:\n",
    "        u_cg, it_cg = conjugate_gradient(A=A, b_vec=b_vec, eps=eps, max_it=max_it)\n",
    "        u_rich, it_rich = Richardson(A=A, b_vec=b_vec, eps=eps, max_it=max_it)\n",
    "        errors_cg.append(np.max(np.abs(u_cg - u_ex)))\n",
    "        errors_rich.append(np.max(np.abs(u_rich - u_ex)))\n",
    "\n",
    "    ax = axes[index]\n",
    "    ax.semilogy(max_iterations_numbers, errors_cg, color = 'blue', marker=\"o\", label=\"CG\")\n",
    "    ax.semilogy(max_iterations_numbers, errors_rich, color = 'green', marker=\"s\", label=\"Richardson\")\n",
    "    ax.set_title(f\"N={N}\")\n",
    "    ax.set_xlabel(\"number of iterations\")\n",
    "    ax.set_ylabel(\"||u - u_ex||\")\n",
    "    ax.legend()\n",
    "    ax.grid(True)\n",
    "\n",
    "fig.suptitle(\"Accuracy on iterations number for different grids\", fontsize=18)\n",
    "plt.tight_layout()\n",
    "plt.savefig(\"Accuracy_on_iterations_number.pdf\")\n",
    "plt.show()"
   ]
  }
 ],
 "metadata": {
  "kernelspec": {
   "display_name": "Python 3",
   "language": "python",
   "name": "python3"
  },
  "language_info": {
   "codemirror_mode": {
    "name": "ipython",
    "version": 3
   },
   "file_extension": ".py",
   "mimetype": "text/x-python",
   "name": "python",
   "nbconvert_exporter": "python",
   "pygments_lexer": "ipython3",
   "version": "3.13.1"
  }
 },
 "nbformat": 4,
 "nbformat_minor": 2
}
