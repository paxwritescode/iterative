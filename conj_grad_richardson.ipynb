{
 "cells": [
  {
   "cell_type": "code",
   "execution_count": 11,
   "metadata": {},
   "outputs": [],
   "source": [
    "import numpy as np\n",
    "import copy\n",
    "import matplotlib.pyplot as plt\n",
    "import math\n",
    "from typing import Tuple, List"
   ]
  },
  {
   "cell_type": "markdown",
   "metadata": {},
   "source": [
    "Parameters and function setting"
   ]
  },
  {
   "cell_type": "code",
   "execution_count": 3,
   "metadata": {},
   "outputs": [],
   "source": [
    "def solution(x, y):\n",
    "    return np.sin(3.0 * np.pi * x ** 2 * y) + (y - 1.0) ** 3"
   ]
  },
  {
   "cell_type": "code",
   "execution_count": 4,
   "metadata": {},
   "outputs": [],
   "source": [
    "def f(x, y):\n",
    "    return 18 * np.pi * (np.pi * x ** 2 * np.sin(3 * np.pi * x ** 2 * y) * (x ** 2 + 6 * y ** 2) - y * np.cos(3 * np.pi * x ** 2 * y)) - 12 * (y - 1)"
   ]
  },
  {
   "cell_type": "code",
   "execution_count": 5,
   "metadata": {},
   "outputs": [],
   "source": [
    "def a(x, y):\n",
    "    return 3\n",
    "\n",
    "def b(x, y):\n",
    "    return 2"
   ]
  },
  {
   "cell_type": "markdown",
   "metadata": {},
   "source": [
    "Mapping function"
   ]
  },
  {
   "cell_type": "code",
   "execution_count": 6,
   "metadata": {},
   "outputs": [],
   "source": [
    "def idx(i, j, N):\n",
    "    return (j-1) * (N - 1) + (i-1)"
   ]
  },
  {
   "cell_type": "markdown",
   "metadata": {},
   "source": [
    "SLAE compilation"
   ]
  },
  {
   "cell_type": "code",
   "execution_count": 7,
   "metadata": {},
   "outputs": [],
   "source": [
    "def SLAE_compilation(N: int):\n",
    "    h = 1.0 / N\n",
    "    size = (N - 1) ** 2 \n",
    "    \n",
    "    A = np.zeros((size, size))\n",
    "    rhs = np.zeros(size)\n",
    "    \n",
    "    coeff_x = a(0, 0) / h**2\n",
    "    coeff_y = b(0, 0) / h**2\n",
    "    \n",
    "    for j in range(1, N):  # y\n",
    "        for i in range(1, N):  # x\n",
    "            k = idx(i, j, N=N)\n",
    "            x, y = i*h, j*h\n",
    "            \n",
    "            # diagonal\n",
    "            A[k, k] = 2*(a(0, 0)+b(0, 0))/h**2\n",
    "            rhs[k] = f(x, y) \n",
    "            \n",
    "            # neighbours\n",
    "            # east (i+1,j)\n",
    "            if i < N-1:\n",
    "                A[k, idx(i+1,j, N)] = -coeff_x\n",
    "            else:  # border x=1\n",
    "                rhs[k] += coeff_x * solution(1.0, y)\n",
    "            \n",
    "            # west (i-1,j)\n",
    "            if i > 1:\n",
    "                A[k, idx(i-1,j, N)] = -coeff_x\n",
    "            else:  # border x=0\n",
    "                rhs[k] += coeff_x * solution(0.0, y)\n",
    "            \n",
    "            # nord (i,j+1)\n",
    "            if j < N-1:\n",
    "                A[k, idx(i,j+1, N)] = -coeff_y\n",
    "            else:  # border y=1\n",
    "                rhs[k] += coeff_y * solution(x, 1.0)\n",
    "            \n",
    "            # sud (i,j-1)\n",
    "            if j > 1:\n",
    "                A[k, idx(i,j-1, N)] = -coeff_y\n",
    "            else:  # border y=0\n",
    "                rhs[k] += coeff_y * solution(x, 0.0)\n",
    "    \n",
    "    return A, rhs"
   ]
  },
  {
   "cell_type": "markdown",
   "metadata": {},
   "source": [
    "Exact solution vector"
   ]
  },
  {
   "cell_type": "code",
   "execution_count": 8,
   "metadata": {},
   "outputs": [],
   "source": [
    "def exact_vector(N):\n",
    "    h = 1.0 / N\n",
    "    u_ex = np.zeros((N-1)**2)\n",
    "    k = 0\n",
    "    for j in range(1, N):\n",
    "        for i in range(1, N):\n",
    "            x, y = i*h, j*h\n",
    "            u_ex[k] = solution(x, y)\n",
    "            k += 1\n",
    "    return u_ex\n"
   ]
  },
  {
   "cell_type": "markdown",
   "metadata": {},
   "source": [
    "Conjugate gradient method"
   ]
  },
  {
   "cell_type": "code",
   "execution_count": 9,
   "metadata": {},
   "outputs": [],
   "source": [
    "def conjugate_gradient(A: np.ndarray, b_vec: np.ndarray, eps: float, max_it: int) -> tuple[np.ndarray, int, np.ndarray]:\n",
    "    it = 0\n",
    "    norms_rk = []\n",
    "\n",
    "    x_cur = np.zeros_like(b_vec)\n",
    "    r_cur = b_vec - A @ x_cur\n",
    "    p_cur = copy.deepcopy(r_cur)\n",
    "\n",
    "    while np.linalg.norm(r_cur) > eps and it < max_it:\n",
    "        r_prev = copy.deepcopy(r_cur)\n",
    "        p_prev = copy.deepcopy(p_cur)\n",
    "        alpha_prev = np.dot(r_prev, r_prev) / np.dot(A @ p_prev, p_prev)\n",
    "        x_prev = copy.deepcopy(x_cur)\n",
    "        x_cur = x_prev + alpha_prev * p_prev\n",
    "        r_cur = r_prev - alpha_prev * A @ p_prev\n",
    "        beta_prev = np.dot(r_cur, r_cur) / np.dot(r_prev, r_prev)\n",
    "        p_cur = r_cur + beta_prev * p_prev\n",
    "        # print(f\"norm(r_cur) = {np.linalg.norm(r_cur)}\\n\")\n",
    "        it += 1\n",
    "        norms_rk.append(np.linalg.norm(r_cur))\n",
    "    return x_cur, it, norms_rk"
   ]
  },
  {
   "cell_type": "markdown",
   "metadata": {},
   "source": [
    "Richardson method"
   ]
  },
  {
   "cell_type": "code",
   "execution_count": 35,
   "metadata": {},
   "outputs": [],
   "source": [
    "def Richardson(A: np.ndarray, b_vec: np.ndarray, eps: float, max_it: int) -> tuple[np.ndarray, int, np.ndarray]:\n",
    "    it = 0\n",
    "    norms_rk = []\n",
    "\n",
    "    eigvals = np.linalg.eigvals(A)\n",
    "    lambda_max = max(np.abs(eigvals))\n",
    "    lambda_min = min(np.abs(eigvals))\n",
    "    \n",
    "    tau = 2.0 / (lambda_max + lambda_min)\n",
    "\n",
    "    x = np.zeros_like(b_vec)\n",
    "    r = A @ x - b_vec\n",
    "    while np.linalg.norm(r) > eps and it < max_it:\n",
    "        x = x - tau * r\n",
    "        r = A @ x - b_vec\n",
    "        # print(f\"norm(r) = {np.linalg.norm(r)}\\n\")\n",
    "        it += 1\n",
    "        norms_rk.append(np.linalg.norm(r))\n",
    "\n",
    "    return x, it, norms_rk"
   ]
  },
  {
   "cell_type": "code",
   "execution_count": 65,
   "metadata": {},
   "outputs": [],
   "source": [
    "def Richardson_Chebyshev(A: np.ndarray, b_vec: np.ndarray, eps: float, max_it: int) -> tuple[np.ndarray, int, np.ndarray]:\n",
    "    it = 0\n",
    "    norms_rk = []\n",
    "\n",
    "    eigvals = np.linalg.eigvals(A)\n",
    "    lambda_max = np.max(eigvals.real)\n",
    "    lambda_min = np.min(eigvals.real)\n",
    "    # print(f\"lambda_max = {lambda_max}\")\n",
    "    # print(f\"lambda_min = {lambda_min}\")\n",
    "\n",
    "    c = (lambda_max + lambda_min) / 2.0\n",
    "    d = (lambda_max - lambda_min) / 2.0\n",
    "\n",
    "    x = np.zeros_like(b_vec)\n",
    "    r = b_vec - A @ x\n",
    "\n",
    "    while np.linalg.norm(r) > eps and it < max_it:\n",
    "        mu_k = c + d * math.cos(math.pi * (2*it + 1) / (2*max_it))\n",
    "        tau_cur = 1.0 / mu_k\n",
    "\n",
    "        x = x + tau_cur * r\n",
    "        r = b_vec - A @ x\n",
    "        it += 1\n",
    "        norms_rk.append(np.linalg.norm(r))\n",
    "\n",
    "        # print(f\"iter {it:3d}, ||r|| = {np.linalg.norm(r):.3e}\")\n",
    "\n",
    "    return x, it, norms_rk\n"
   ]
  },
  {
   "cell_type": "markdown",
   "metadata": {},
   "source": [
    "Test"
   ]
  },
  {
   "cell_type": "code",
   "execution_count": null,
   "metadata": {},
   "outputs": [],
   "source": [
    "# N = 54\n",
    "# A, b_vec = SLAE_compilation(N)\n",
    "\n",
    "# x_cg, it_cg, r_cg = conjugate_gradient(A, b_vec, eps=1e-9, max_it=10000)\n",
    "# x_rich, it_rich, r_rich = Richardson(A, b_vec, eps=1e-9, max_it = 10000)\n",
    "# x_rich_cheb, it_rich_cheb, r_rich_cheb = Richardson_Chebyshev(A, b_vec, eps=1e-9, max_it=10000)\n",
    "\n",
    "# it_cg, it_rich, it_rich_cheb"
   ]
  },
  {
   "cell_type": "markdown",
   "metadata": {},
   "source": [
    "Numerical experiments"
   ]
  },
  {
   "cell_type": "code",
   "execution_count": 10,
   "metadata": {},
   "outputs": [],
   "source": [
    "number_of_nodes = np.arange(4, 30, 5)"
   ]
  },
  {
   "cell_type": "markdown",
   "metadata": {},
   "source": [
    "1) Error on iterations number"
   ]
  },
  {
   "cell_type": "code",
   "execution_count": null,
   "metadata": {},
   "outputs": [],
   "source": [
    "max_iterations_numbers = np.arange(1, 101, 10)\n",
    "\n",
    "eps = 1e-10\n",
    "\n",
    "fig, axes = plt.subplots(2, 3, figsize=(15, 8))\n",
    "axes = axes.ravel() \n",
    "\n",
    "for index, N in enumerate(number_of_nodes):\n",
    "    A, b_vec = SLAE_compilation(N)\n",
    "    errors_cg = []\n",
    "    errors_rich = []\n",
    "    numbers_of_iterations = []\n",
    "\n",
    "    u_ex = exact_vector(N)\n",
    "\n",
    "    for max_it in max_iterations_numbers:\n",
    "        u_cg, it_cg, _ = conjugate_gradient(A=A, b_vec=b_vec, eps=eps, max_it=max_it)\n",
    "        u_rich, it_rich, _ = Richardson(A=A, b_vec=b_vec, eps=eps, max_it=max_it)\n",
    "        errors_cg.append(np.max(np.abs(u_cg - u_ex)))\n",
    "        errors_rich.append(np.max(np.abs(u_rich - u_ex)))\n",
    "\n",
    "    ax = axes[index]\n",
    "    ax.semilogy(max_iterations_numbers, errors_cg, color = 'blue', marker=\"o\", label=\"CG\")\n",
    "    ax.semilogy(max_iterations_numbers, errors_rich, color = 'green', marker=\"s\", label=\"Richardson\")\n",
    "    ax.set_title(f\"N={N}\")\n",
    "    ax.set_xlabel(\"number of iterations\")\n",
    "    ax.set_ylabel(\"||u - u_ex||\")\n",
    "    ax.legend()\n",
    "    ax.grid(True)\n",
    "\n",
    "fig.suptitle(\"Accuracy on iterations number for different grids\", fontsize=18)\n",
    "plt.tight_layout()\n",
    "plt.savefig(\"Accuracy_on_iterations_number.pdf\")\n",
    "plt.show()"
   ]
  },
  {
   "cell_type": "markdown",
   "metadata": {},
   "source": [
    "2. Stability"
   ]
  },
  {
   "cell_type": "code",
   "execution_count": 12,
   "metadata": {},
   "outputs": [],
   "source": [
    "def perturb_b_vec(b_vec, eps):\n",
    "    rng = np.random.default_rng()\n",
    "    delta = rng.normal(size=b_vec.shape)\n",
    "    delta = delta / np.linalg.norm(delta) * (eps * np.linalg.norm(b_vec))\n",
    "    return b_vec + delta\n",
    "\n",
    "def perturb_A(A, eps):\n",
    "    rng = np.random.default_rng()\n",
    "    E = rng.normal(size=A.shape)\n",
    "    normA = np.linalg.norm(A, ord='fro')\n",
    "    E = E / np.linalg.norm(E, ord='fro') * (eps * normA)\n",
    "    return A + E"
   ]
  },
  {
   "cell_type": "code",
   "execution_count": 13,
   "metadata": {},
   "outputs": [],
   "source": [
    "max_it = 1e10"
   ]
  },
  {
   "cell_type": "markdown",
   "metadata": {},
   "source": [
    "Matrix disturbance"
   ]
  },
  {
   "cell_type": "code",
   "execution_count": null,
   "metadata": {},
   "outputs": [],
   "source": [
    "N = 29\n",
    "eps_values = [1e-8, 1e-7, 1e-6, 1e-5, 1e-4, 1e-3]\n",
    "iters_cg, iters_rich = [], []\n",
    "errors_cg, errors_rich = [], []\n",
    "A, b_vec = SLAE_compilation(N)\n",
    "x_cg, it_cg, _ = conjugate_gradient(A=A, b_vec=b_vec, eps=eps, max_it=max_it)\n",
    "x_rich, it_rich, _ = Richardson(A=A, b_vec=b_vec, eps=eps, max_it=max_it)\n",
    "for eps_value in eps_values:\n",
    "    A_pert = perturb_A(A=A, eps=eps_value)\n",
    "    x_cg_p, it_cg_p, _ = conjugate_gradient(A=A_pert, b_vec=b_vec, eps=1e-10, max_it=max_it)\n",
    "    x_rich_p, it_rich_p, _ = Richardson(A=A_pert, b_vec=b_vec, eps=eps, max_it=max_it)\n",
    "    error_solution_cg = np.linalg.norm(x_cg_p - x_cg)\n",
    "    error_solution_rich = np.linalg.norm(x_rich_p - x_rich)\n",
    "    iters_cg.append(it_cg_p)\n",
    "    errors_cg.append(error_solution_cg)\n",
    "    errors_rich.append(error_solution_rich)\n",
    "    # print(f\"eps = {eps_value}\\n\")\n",
    "    # print(f\"||x_p = x|| = {error_solution_cg}\\n\")\n",
    "    # print(f\"Non-perturbated: {it_cg} iterations, perturbated: {it_cg_p} iterations \\n\\n\")\n",
    "\n",
    "plt.loglog(eps_values, errors_cg, marker = \"o\", color=\"blue\")\n",
    "plt.loglog(eps_values, errors_rich, marker = \"o\", color = \"green\")\n",
    "plt.xlabel(\"Disturbance amplitude ε\")\n",
    "plt.ylabel(\"||x_pert - x||\")\n",
    "plt.title(f\"Solution stability (both), {N + 1} nodes\")\n",
    "plt.grid(True, which=\"both\")\n",
    "plt.savefig(\"Solution_stability.pdf\")\n",
    "plt.show()"
   ]
  },
  {
   "cell_type": "code",
   "execution_count": 15,
   "metadata": {},
   "outputs": [],
   "source": [
    "eps_values = [1e-8, 1e-7, 1e-6, 1e-5, 1e-4, 1e-3]"
   ]
  },
  {
   "cell_type": "code",
   "execution_count": null,
   "metadata": {},
   "outputs": [],
   "source": [
    "fig = plt.figure(figsize=(12, 24))\n",
    "outer = fig.add_gridspec(6, 1) \n",
    "\n",
    "for ind, N in enumerate(number_of_nodes):\n",
    "\n",
    "    inner = outer[ind].subgridspec(1, 2, wspace=0.3)\n",
    "\n",
    "    ax_cg = fig.add_subplot(inner[0])\n",
    "    ax_rich = fig.add_subplot(inner[1])\n",
    "\n",
    "    iters_cg = []\n",
    "    errors_cg = []\n",
    "    iters_rich = []\n",
    "    errors_rich = []\n",
    "\n",
    "    A, b_vec = SLAE_compilation(N)\n",
    "    res_cg, it_cg, _ = conjugate_gradient(A=A, b_vec=b_vec, eps=eps, max_it=max_it)\n",
    "    res_rich, it_rich, _ = Richardson(A=A, b_vec=b_vec, eps=eps, max_it=max_it)\n",
    "\n",
    "    for eps_value in eps_values:\n",
    "        A_pert = perturb_A(A=A, eps=eps_value)\n",
    "        x_cg_p, it_cg_p, _ = conjugate_gradient(A=A_pert, b_vec=b_vec, eps=1e-10, max_it=max_it)\n",
    "        x_rich_p, it_rich_p, _ = Richardson(A=A_pert, b_vec=b_vec, eps=1e-10, max_it=max_it)\n",
    "        \n",
    "        error_solution_cg = np.linalg.norm(x_cg_p - res_cg)\n",
    "        error_solution_rich = np.linalg.norm(x_rich_p - res_rich)\n",
    "\n",
    "        iters_cg.append(it_cg_p)\n",
    "        errors_cg.append(error_solution_cg)\n",
    "        iters_rich.append(it_rich_p)\n",
    "        errors_rich.append(error_solution_rich)\n",
    "\n",
    "\n",
    "    ax_cg.semilogx(eps_values, iters_cg, marker=\"o\", color = \"blue\")\n",
    "    ax_cg.set_xlabel(\"Disturbance amplitude ε\")\n",
    "    ax_cg.set_ylabel(\"Number of iterations\")\n",
    "    ax_cg.set_title(f\"CG, {N + 1} nodes\")\n",
    "    ax_cg.grid(True)\n",
    "\n",
    "\n",
    "    ax_rich.semilogx(eps_values, iters_rich, marker=\"o\", color=\"green\")\n",
    "    ax_rich.set_xlabel(\"Disturbance amplitude ε\")\n",
    "    ax_rich.set_ylabel(\"Number of iterations\")\n",
    "    ax_rich.set_title(f\"Richardson, {N + 1} nodes\")\n",
    "    ax_rich.grid(True)\n",
    "\n",
    "fig.suptitle(\"Number of iterations on disturbance amplitude\", fontsize=16)\n",
    "plt.tight_layout(rect=[0, 0, 1, 0.95])\n",
    "plt.savefig(\"Iterations_on_matrix_disturbance.pdf\")\n",
    "plt.show()\n",
    "\n"
   ]
  },
  {
   "cell_type": "markdown",
   "metadata": {},
   "source": [
    "Right part vector disturbance"
   ]
  },
  {
   "cell_type": "code",
   "execution_count": null,
   "metadata": {},
   "outputs": [],
   "source": [
    "N = 29\n",
    "eps_cur = 1e-2\n",
    "A, b_vec = SLAE_compilation(N)\n",
    "b_vec_pert = perturb_b_vec(b_vec=b_vec, eps=eps_cur)\n",
    "\n",
    "x_cg, it_cg, _ = conjugate_gradient(A=A, b_vec=b_vec, eps=eps, max_it=max_it)\n",
    "x_cg_pert, it_cg_pert, _ = conjugate_gradient(A=A, b_vec=b_vec_pert, eps=eps, max_it=max_it)\n",
    "x_rich, it_rich, _ = Richardson(A=A, b_vec=b_vec, eps=eps, max_it=max_it)\n",
    "x_rich_pert, it_rich_pert, _ = Richardson(A=A, b_vec=b_vec_pert, eps=eps, max_it=max_it)\n",
    "\n",
    "error_solution_cg = np.linalg.norm(x_cg - x_cg_pert)\n",
    "error_solution_rich = np.linalg.norm(x_rich - x_rich_pert)\n",
    "\n",
    "print(f\"{N + 1} nodes, eps = {eps_cur}\\n\")\n",
    "print(\"Conjugate gradient:\\n\")\n",
    "print(f\"||x_p - x|| = {error_solution_cg}\\n\")\n",
    "print(f\"Non-perturbated: {it_cg} iterations, perturbated: {it_cg_pert} iterations \\n\\n\")\n",
    "print(\"Richardson:\\n\")\n",
    "print(f\"||x_rich - x|| = {error_solution_rich}\\n\")\n",
    "print(f\"Non-perturbated: {it_rich} iterations, perturbated: {it_rich_pert} iterations \\n\\n\")\n"
   ]
  },
  {
   "cell_type": "markdown",
   "metadata": {},
   "source": [
    "3. Rate of convergence"
   ]
  },
  {
   "cell_type": "markdown",
   "metadata": {},
   "source": [
    "The abscissa axis is the iteration number. The ordinate axis is the norm of the current direction vector (the stopping criteria)."
   ]
  },
  {
   "cell_type": "code",
   "execution_count": null,
   "metadata": {},
   "outputs": [],
   "source": [
    "eps = 1e-5\n",
    "\n",
    "fig, axes = plt.subplots(2, 3, figsize=(15, 8))\n",
    "axes = axes.ravel()\n",
    "\n",
    "for ind, N in enumerate(number_of_nodes):\n",
    "    A, b_vec = SLAE_compilation(N)\n",
    "    x_cg, it_cg, rk_cg = conjugate_gradient(A=A, b_vec=b_vec, eps=eps, max_it=max_it)\n",
    "    x_rich, it_rich, rk_rich = Richardson(A=A, b_vec=b_vec, eps=eps, max_it=max_it)\n",
    "\n",
    "    iters_cg = np.arange(0, it_cg)\n",
    "    iters_rich = np.arange(0, it_rich)\n",
    "\n",
    "    ax = axes[ind]\n",
    "    ax.semilogy(iters_cg, rk_cg, label=\"CG\", color = \"blue\")\n",
    "    ax.semilogy(iters_rich, rk_rich, label=\"Richardson\", color = \"green\")\n",
    "    ax.axhline(y = 1e-5, color = \"red\")\n",
    "    ax.grid(True)\n",
    "    ax.set_title(f\"N = {N + 1}\")\n",
    "    ax.set_xlabel(\"Iteration number\")\n",
    "    ax.set_ylabel(\"Residual norm\")\n",
    "    ax.legend()\n",
    "\n",
    "fig.suptitle(r\"Residual on iteration number, $\\varepsilon = 10^{-5}$\", fontsize=16)\n",
    "plt.tight_layout(rect=[0, 0, 1, 0.95])\n",
    "plt.savefig(\"Residual_on_iteration_number.pdf\")\n",
    "plt.show()\n"
   ]
  },
  {
   "cell_type": "markdown",
   "metadata": {},
   "source": [
    "Computetion time on number of nodes"
   ]
  },
  {
   "cell_type": "code",
   "execution_count": 19,
   "metadata": {},
   "outputs": [],
   "source": [
    "import time"
   ]
  },
  {
   "cell_type": "code",
   "execution_count": null,
   "metadata": {},
   "outputs": [],
   "source": [
    "N_values = np.arange(4, 55, 5)    \n",
    "times_cg = []            \n",
    "times_rich = []                     \n",
    "\n",
    "for N_value in N_values:\n",
    "    A, b_vec = SLAE_compilation(N_value)\n",
    "\n",
    "    start = time.perf_counter()\n",
    "    x, it, _ = conjugate_gradient(A=A, b_vec=b_vec, eps=1e-8, max_it=10000)\n",
    "    times_cg.append(time.perf_counter() - start)\n",
    "\n",
    "    start = time.perf_counter()\n",
    "    x2, it2, _ = Richardson(A=A, b_vec=b_vec, eps=1e-8, max_it=10000)\n",
    "    times_rich.append(time.perf_counter() - start)\n",
    "\n",
    "\n",
    "plt.figure(figsize=(7,5))\n",
    "plt.semilogy(N_values + 1, times_cg, color='blue', label='CG', marker='o')\n",
    "plt.semilogy(N_values + 1, times_rich, color='green', label='Richardson', marker='o')\n",
    "plt.xlabel(\"N\")\n",
    "plt.ylabel(\"time, s\")\n",
    "plt.legend()\n",
    "plt.grid(True, which='both')\n",
    "plt.title(\"Computation time on number of nodes\")\n",
    "plt.savefig(\"Computation time on number of nodes.pdf\")\n",
    "plt.tight_layout()\n",
    "plt.show()"
   ]
  }
 ],
 "metadata": {
  "kernelspec": {
   "display_name": "Python 3",
   "language": "python",
   "name": "python3"
  },
  "language_info": {
   "codemirror_mode": {
    "name": "ipython",
    "version": 3
   },
   "file_extension": ".py",
   "mimetype": "text/x-python",
   "name": "python",
   "nbconvert_exporter": "python",
   "pygments_lexer": "ipython3",
   "version": "3.13.1"
  }
 },
 "nbformat": 4,
 "nbformat_minor": 2
}
