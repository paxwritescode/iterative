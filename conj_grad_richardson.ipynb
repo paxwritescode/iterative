{
 "cells": [
  {
   "cell_type": "code",
   "execution_count": 1,
   "metadata": {},
   "outputs": [],
   "source": [
    "import numpy as np\n",
    "import copy"
   ]
  },
  {
   "cell_type": "markdown",
   "metadata": {},
   "source": [
    "Parameters and function setting"
   ]
  },
  {
   "cell_type": "code",
   "execution_count": 2,
   "metadata": {},
   "outputs": [],
   "source": [
    "def solution(x, y):\n",
    "    return np.sin(3.0 * np.pi * x ** 2 * y) + (y - 1.0) ** 3"
   ]
  },
  {
   "cell_type": "code",
   "execution_count": 3,
   "metadata": {},
   "outputs": [],
   "source": [
    "def f(x, y):\n",
    "    return 18 * np.pi * (np.pi * x ** 2 * np.sin(3 * np.pi * x ** 2 * y) * (x ** 2 + 6 * y ** 2) - y * np.cos(3 * np.pi * x ** 2 * y)) - 12 * (y - 1)"
   ]
  },
  {
   "cell_type": "code",
   "execution_count": 6,
   "metadata": {},
   "outputs": [],
   "source": [
    "def a(x, y):\n",
    "    return 3\n",
    "\n",
    "def b(x, y):\n",
    "    return 2"
   ]
  },
  {
   "cell_type": "markdown",
   "metadata": {},
   "source": [
    "Mapping function"
   ]
  },
  {
   "cell_type": "code",
   "execution_count": 19,
   "metadata": {},
   "outputs": [],
   "source": [
    "def idx(i, j, N):\n",
    "    return (j-1) * (N - 1) + (i-1)"
   ]
  },
  {
   "cell_type": "markdown",
   "metadata": {},
   "source": [
    "SLAE compilation"
   ]
  },
  {
   "cell_type": "code",
   "execution_count": 9,
   "metadata": {},
   "outputs": [],
   "source": [
    "def SLAE_compilation(N: int):\n",
    "    h = 1.0 / N\n",
    "    size = (N - 1) ** 2 \n",
    "    \n",
    "    A = np.zeros((size, size))\n",
    "    rhs = np.zeros(size)\n",
    "    \n",
    "    coeff_x = a(0, 0) / h**2\n",
    "    coeff_y = b(0, 0) / h**2\n",
    "    \n",
    "    for j in range(1, N):  # y\n",
    "        for i in range(1, N):  # x\n",
    "            k = idx(i, j, N=N)\n",
    "            x, y = i*h, j*h\n",
    "            \n",
    "            # diagonal\n",
    "            A[k, k] = 2*(a(0, 0)+b(0, 0))/h**2\n",
    "            rhs[k] = f(x, y) \n",
    "            \n",
    "            # neighbours\n",
    "            # east (i+1,j)\n",
    "            if i < N-1:\n",
    "                A[k, idx(i+1,j, N)] = -coeff_x\n",
    "            else:  # border x=1\n",
    "                rhs[k] += coeff_x * solution(1.0, y)\n",
    "            \n",
    "            # west (i-1,j)\n",
    "            if i > 1:\n",
    "                A[k, idx(i-1,j, N)] = -coeff_x\n",
    "            else:  # border x=0\n",
    "                rhs[k] += coeff_x * solution(0.0, y)\n",
    "            \n",
    "            # nord (i,j+1)\n",
    "            if j < N-1:\n",
    "                A[k, idx(i,j+1, N)] = -coeff_y\n",
    "            else:  # border y=1\n",
    "                rhs[k] += coeff_y * solution(x, 1.0)\n",
    "            \n",
    "            # sud (i,j-1)\n",
    "            if j > 1:\n",
    "                A[k, idx(i,j-1, N)] = -coeff_y\n",
    "            else:  # border y=0\n",
    "                rhs[k] += coeff_y * solution(x, 0.0)\n",
    "    \n",
    "    return A, rhs"
   ]
  },
  {
   "cell_type": "code",
   "execution_count": 10,
   "metadata": {},
   "outputs": [],
   "source": [
    "def exact_vector(N):\n",
    "    h = 1.0 / (N - 1)\n",
    "    u_ex = np.zeros((N-1)**2)\n",
    "    for j in range(1, N):\n",
    "        for i in range(1, N):\n",
    "            k = idx(i,j, N=N)\n",
    "            u_ex[k] = solution(i*h, j*h)\n",
    "\n",
    "    return u_ex"
   ]
  },
  {
   "cell_type": "code",
   "execution_count": 11,
   "metadata": {},
   "outputs": [],
   "source": [
    "N = 50\n",
    "A, b_vec = SLAE_compilation(N)"
   ]
  },
  {
   "cell_type": "code",
   "execution_count": 12,
   "metadata": {},
   "outputs": [],
   "source": [
    "u_ex = exact_vector(N)"
   ]
  },
  {
   "cell_type": "code",
   "execution_count": 14,
   "metadata": {},
   "outputs": [],
   "source": [
    "def conjugate_gradient(A: np.ndarray, b_vec: np.ndarray, eps: float = 1e-8) -> np.ndarray:\n",
    "    x_cur = np.zeros_like(b_vec)\n",
    "    r_cur = b_vec - A @ x_cur\n",
    "    p_cur = copy.deepcopy(r_cur)\n",
    "\n",
    "    while np.linalg.norm(r_cur) > eps:\n",
    "        r_prev = copy.deepcopy(r_cur)\n",
    "        p_prev = copy.deepcopy(p_cur)\n",
    "        alpha_prev = np.dot(r_prev, r_prev) / np.dot(A @ p_prev, p_prev)\n",
    "        x_prev = copy.deepcopy(x_cur)\n",
    "        x_cur = x_prev + alpha_prev * p_prev\n",
    "        r_cur = r_prev - alpha_prev * A @ p_prev\n",
    "        beta_prev = np.dot(r_cur, r_cur) / np.dot(r_prev, r_prev)\n",
    "        p_cur = r_cur + beta_prev * p_prev\n",
    "        # print(f\"norm(r_cur) = {np.linalg.norm(r_cur)}\\n\")\n",
    "    return x_cur"
   ]
  },
  {
   "cell_type": "code",
   "execution_count": null,
   "metadata": {},
   "outputs": [],
   "source": [
    "u_cg = conjugate_gradient(A, b_vec)\n",
    "max(A @ u_cg - b_vec)"
   ]
  },
  {
   "cell_type": "code",
   "execution_count": 16,
   "metadata": {},
   "outputs": [],
   "source": [
    "def convergence_test(N_list):\n",
    "    results = []\n",
    "    \n",
    "    for N in N_list:\n",
    "        h = 1.0 / N\n",
    "        A, b_vec = SLAE_compilation(N)\n",
    "        \n",
    "        u_num = np.linalg.solve(A, b_vec)\n",
    "        \n",
    "        u_ex = np.zeros_like(u_num)\n",
    "        idx = 0\n",
    "        for j in range(1, N):\n",
    "            for i in range(1, N):\n",
    "                x, y = i*h, j*h\n",
    "                u_ex[idx] = solution(x, y)\n",
    "                idx += 1\n",
    "        \n",
    "        err = np.max(np.abs(u_num - u_ex))\n",
    "        results.append((N, h, err))\n",
    "    \n",
    "    print(f\"{'N':>6} {'h':>10} {'max error':>15} {'p (order)':>12}\")\n",
    "    prev_err = None\n",
    "    prev_h = None\n",
    "    for N, h, err in results:\n",
    "        if prev_err is None:\n",
    "            print(f\"{N:6d} {h:10.4f} {err:15.6e} {'-':>12}\")\n",
    "        else:\n",
    "            p = np.log(prev_err/err) / np.log(prev_h/h)\n",
    "            print(f\"{N:6d} {h:10.4f} {err:15.6e} {p:12.6f}\")\n",
    "        prev_err, prev_h = err, h\n",
    "    \n",
    "    return results\n"
   ]
  },
  {
   "cell_type": "code",
   "execution_count": null,
   "metadata": {},
   "outputs": [],
   "source": [
    "convergence_test([10, 20, 40, 80, 120])"
   ]
  }
 ],
 "metadata": {
  "kernelspec": {
   "display_name": "Python 3",
   "language": "python",
   "name": "python3"
  },
  "language_info": {
   "codemirror_mode": {
    "name": "ipython",
    "version": 3
   },
   "file_extension": ".py",
   "mimetype": "text/x-python",
   "name": "python",
   "nbconvert_exporter": "python",
   "pygments_lexer": "ipython3",
   "version": "3.13.1"
  }
 },
 "nbformat": 4,
 "nbformat_minor": 2
}
