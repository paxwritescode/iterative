{
 "cells": [
  {
   "cell_type": "code",
   "execution_count": 63,
   "metadata": {},
   "outputs": [],
   "source": [
    "import numpy as np\n",
    "import copy"
   ]
  },
  {
   "cell_type": "markdown",
   "metadata": {},
   "source": [
    "Parameters and function setting"
   ]
  },
  {
   "cell_type": "code",
   "execution_count": 64,
   "metadata": {},
   "outputs": [],
   "source": [
    "def solution(x, y):\n",
    "    return np.sin(3.0 * np.pi * x ** 2 * y) + (y - 1.0) ** 3"
   ]
  },
  {
   "cell_type": "code",
   "execution_count": 65,
   "metadata": {},
   "outputs": [],
   "source": [
    "def f(x, y):\n",
    "    return 18 * np.pi * (np.pi * x ** 2 * np.sin(3 * np.pi * x ** 2 * y) * (x ** 2 + 6 * y ** 2) - y * np.cos(3 * np.pi * x ** 2 * y)) - 12 * (y - 1)"
   ]
  },
  {
   "cell_type": "code",
   "execution_count": 66,
   "metadata": {},
   "outputs": [],
   "source": [
    "def a(x, y):\n",
    "    return 3\n",
    "\n",
    "def b(x, y):\n",
    "    return 2"
   ]
  },
  {
   "cell_type": "markdown",
   "metadata": {},
   "source": [
    "Mapping function"
   ]
  },
  {
   "cell_type": "code",
   "execution_count": 67,
   "metadata": {},
   "outputs": [],
   "source": [
    "def idx(i, j, N):\n",
    "    return (j-1) * (N - 1) + (i-1)"
   ]
  },
  {
   "cell_type": "markdown",
   "metadata": {},
   "source": [
    "SLAE compilation"
   ]
  },
  {
   "cell_type": "code",
   "execution_count": 68,
   "metadata": {},
   "outputs": [],
   "source": [
    "def SLAE_compilation(N: int):\n",
    "    h = 1.0 / N\n",
    "    size = (N - 1) ** 2 \n",
    "    \n",
    "    A = np.zeros((size, size))\n",
    "    rhs = np.zeros(size)\n",
    "    \n",
    "    coeff_x = a(0, 0) / h**2\n",
    "    coeff_y = b(0, 0) / h**2\n",
    "    \n",
    "    for j in range(1, N):  # y\n",
    "        for i in range(1, N):  # x\n",
    "            k = idx(i, j, N=N)\n",
    "            x, y = i*h, j*h\n",
    "            \n",
    "            # diagonal\n",
    "            A[k, k] = 2*(a(0, 0)+b(0, 0))/h**2\n",
    "            rhs[k] = f(x, y) \n",
    "            \n",
    "            # neighbours\n",
    "            # east (i+1,j)\n",
    "            if i < N-1:\n",
    "                A[k, idx(i+1,j, N)] = -coeff_x\n",
    "            else:  # border x=1\n",
    "                rhs[k] += coeff_x * solution(1.0, y)\n",
    "            \n",
    "            # west (i-1,j)\n",
    "            if i > 1:\n",
    "                A[k, idx(i-1,j, N)] = -coeff_x\n",
    "            else:  # border x=0\n",
    "                rhs[k] += coeff_x * solution(0.0, y)\n",
    "            \n",
    "            # nord (i,j+1)\n",
    "            if j < N-1:\n",
    "                A[k, idx(i,j+1, N)] = -coeff_y\n",
    "            else:  # border y=1\n",
    "                rhs[k] += coeff_y * solution(x, 1.0)\n",
    "            \n",
    "            # sud (i,j-1)\n",
    "            if j > 1:\n",
    "                A[k, idx(i,j-1, N)] = -coeff_y\n",
    "            else:  # border y=0\n",
    "                rhs[k] += coeff_y * solution(x, 0.0)\n",
    "    \n",
    "    return A, rhs"
   ]
  },
  {
   "cell_type": "code",
   "execution_count": 69,
   "metadata": {},
   "outputs": [],
   "source": [
    "def exact_vector(N):\n",
    "    h = 1.0 / (N - 1)\n",
    "    u_ex = np.zeros((N-1)**2)\n",
    "    for j in range(1, N):\n",
    "        for i in range(1, N):\n",
    "            k = idx(i,j, N=N)\n",
    "            u_ex[k] = solution(i*h, j*h)\n",
    "\n",
    "    return u_ex"
   ]
  },
  {
   "cell_type": "code",
   "execution_count": 70,
   "metadata": {},
   "outputs": [],
   "source": [
    "N = 5\n",
    "A, b_vec = SLAE_compilation(N)"
   ]
  },
  {
   "cell_type": "code",
   "execution_count": 71,
   "metadata": {},
   "outputs": [],
   "source": [
    "u_ex = exact_vector(N)"
   ]
  },
  {
   "cell_type": "markdown",
   "metadata": {},
   "source": [
    "Conjugate gradient method"
   ]
  },
  {
   "cell_type": "code",
   "execution_count": 72,
   "metadata": {},
   "outputs": [],
   "source": [
    "def conjugate_gradient(A: np.ndarray, b_vec: np.ndarray, eps: float = 1e-8) -> np.ndarray:\n",
    "    x_cur = np.zeros_like(b_vec)\n",
    "    r_cur = b_vec - A @ x_cur\n",
    "    p_cur = copy.deepcopy(r_cur)\n",
    "\n",
    "    while np.linalg.norm(r_cur) > eps:\n",
    "        r_prev = copy.deepcopy(r_cur)\n",
    "        p_prev = copy.deepcopy(p_cur)\n",
    "        alpha_prev = np.dot(r_prev, r_prev) / np.dot(A @ p_prev, p_prev)\n",
    "        x_prev = copy.deepcopy(x_cur)\n",
    "        x_cur = x_prev + alpha_prev * p_prev\n",
    "        r_cur = r_prev - alpha_prev * A @ p_prev\n",
    "        beta_prev = np.dot(r_cur, r_cur) / np.dot(r_prev, r_prev)\n",
    "        p_cur = r_cur + beta_prev * p_prev\n",
    "        # print(f\"norm(r_cur) = {np.linalg.norm(r_cur)}\\n\")\n",
    "    return x_cur"
   ]
  },
  {
   "cell_type": "code",
   "execution_count": null,
   "metadata": {},
   "outputs": [],
   "source": [
    "u_cg = conjugate_gradient(A, b_vec)\n",
    "max(A @ u_cg - b_vec)"
   ]
  },
  {
   "cell_type": "markdown",
   "metadata": {},
   "source": [
    "Richardson method"
   ]
  },
  {
   "cell_type": "code",
   "execution_count": 79,
   "metadata": {},
   "outputs": [],
   "source": [
    "def Richardson(A: np.ndarray, b_vec: np.ndarray, eps: float = 1e-8) -> np.ndarray:\n",
    "\n",
    "    eigvals = np.linalg.eigvals(A)\n",
    "    lambda_max = max(np.abs(eigvals))\n",
    "    \n",
    "    tau = 1.0 / lambda_max \n",
    "\n",
    "    x = np.zeros_like(b_vec)\n",
    "    r = A @ x - b_vec\n",
    "    while np.linalg.norm(r) > eps:\n",
    "        x = x - tau * r\n",
    "        r = A @ x - b_vec\n",
    "        # print(f\"norm(r) = {np.linalg.norm(r)}\\n\")\n",
    "\n",
    "    return x"
   ]
  },
  {
   "cell_type": "code",
   "execution_count": null,
   "metadata": {},
   "outputs": [],
   "source": [
    "u_rich = Richardson(A, b_vec)"
   ]
  }
 ],
 "metadata": {
  "kernelspec": {
   "display_name": "Python 3",
   "language": "python",
   "name": "python3"
  },
  "language_info": {
   "codemirror_mode": {
    "name": "ipython",
    "version": 3
   },
   "file_extension": ".py",
   "mimetype": "text/x-python",
   "name": "python",
   "nbconvert_exporter": "python",
   "pygments_lexer": "ipython3",
   "version": "3.13.1"
  }
 },
 "nbformat": 4,
 "nbformat_minor": 2
}
