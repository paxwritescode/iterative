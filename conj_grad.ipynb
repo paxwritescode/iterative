{
 "cells": [
  {
   "cell_type": "code",
   "execution_count": 24,
   "metadata": {},
   "outputs": [],
   "source": [
    "import numpy as np\n",
    "import copy"
   ]
  },
  {
   "cell_type": "markdown",
   "metadata": {},
   "source": [
    "Parameters and function setting"
   ]
  },
  {
   "cell_type": "code",
   "execution_count": 25,
   "metadata": {},
   "outputs": [],
   "source": [
    "def solution(x, y):\n",
    "    return np.sin(3.0 * np.pi * x ** 2 * y) + (y - 1.0) ** 3"
   ]
  },
  {
   "cell_type": "code",
   "execution_count": 26,
   "metadata": {},
   "outputs": [],
   "source": [
    "def f(x, y):\n",
    "    return 18 * np.pi * (np.pi * x ** 2 * np.sin(3 * np.pi * x ** 2 * y) * (x ** 2 + 6 * y ** 2) - y * np.cos(3 * np.pi * x ** 2 * y)) - 12 * (y - 1)"
   ]
  },
  {
   "cell_type": "code",
   "execution_count": 27,
   "metadata": {},
   "outputs": [],
   "source": [
    "def a(x, y):\n",
    "    return 3\n",
    "\n",
    "def b(x, y):\n",
    "    return 2"
   ]
  },
  {
   "cell_type": "markdown",
   "metadata": {},
   "source": [
    "SLAE compilation"
   ]
  },
  {
   "cell_type": "code",
   "execution_count": 28,
   "metadata": {},
   "outputs": [],
   "source": [
    "def SLAE_compilation(N: int) -> tuple[np.ndarray, np.ndarray]:\n",
    "    def idx(i, j):\n",
    "        return (j - 1) * (N - 1) + (i - 1)\n",
    "\n",
    "    n = (N - 1) ** 2\n",
    "\n",
    "    A = np.zeros((n, n))\n",
    "    b_vec = np.zeros(n)\n",
    "\n",
    "    h = 1.0 / N\n",
    "\n",
    "    for j in range(1, N):  # y\n",
    "        for i in range(1, N):  # x\n",
    "            k = idx(i, j)\n",
    "            A[k, k] = -2 * (a(0, 0) + b(0, 0)) / h**2\n",
    "            x, y = i * h, j * h\n",
    "            b_k = -f(x, y)\n",
    "\n",
    "            for di, dj, coeff in [(-1, 0, a), (1, 0, a), (0, -1, b), (0, 1, b)]:\n",
    "                ni, nj = i + di, j + dj\n",
    "                if 1 <= ni <= N - 1 and 1 <= nj <= N - 1:\n",
    "                    A[k, idx(ni, nj)] = coeff(0, 0) / h**2\n",
    "                else:\n",
    "                    xg, yg = ni * h, nj * h\n",
    "                    b_k += coeff(0, 0) * solution(xg, yg) / h**2\n",
    "\n",
    "            b_vec[k] = b_k\n",
    "\n",
    "    return A, b_vec"
   ]
  },
  {
   "cell_type": "markdown",
   "metadata": {},
   "source": [
    "Conjugate Gradient Method"
   ]
  },
  {
   "cell_type": "code",
   "execution_count": 53,
   "metadata": {},
   "outputs": [],
   "source": [
    "def conjugate_gradient(A: np.ndarray, b_vec: np.ndarray, eps: float = 1e-2) -> np.ndarray:\n",
    "    x_cur = np.zeros_like(b_vec)\n",
    "    r_cur = b_vec - A @ x_cur\n",
    "    p_cur = copy.deepcopy(r_cur)\n",
    "\n",
    "    while np.linalg.norm(r_cur) > eps:\n",
    "        r_prev = copy.deepcopy(r_cur)\n",
    "        p_prev = copy.deepcopy(p_cur)\n",
    "        alpha_prev = np.dot(r_prev, r_prev) / np.dot(A @ p_prev, p_prev)\n",
    "        x_prev = copy.deepcopy(x_cur)\n",
    "        x_cur = x_prev + alpha_prev * p_prev\n",
    "        r_cur = r_prev - alpha_prev * A @ p_prev\n",
    "        beta_prev = np.dot(r_cur, r_cur) / np.dot(r_prev, r_prev)\n",
    "        p_cur = r_cur + beta_prev * p_prev\n",
    "        print(f\"norm(r_cur) = {np.linalg.norm(r_cur)}\\n\")\n",
    "    return x_cur"
   ]
  },
  {
   "cell_type": "code",
   "execution_count": null,
   "metadata": {},
   "outputs": [],
   "source": [
    "N = 4\n",
    "A, b_vec = SLAE_compilation(N)\n",
    "\n",
    "x = conjugate_gradient(A=A, b_vec=b_vec)\n",
    "\n",
    "x"
   ]
  }
 ],
 "metadata": {
  "kernelspec": {
   "display_name": "Python 3",
   "language": "python",
   "name": "python3"
  },
  "language_info": {
   "codemirror_mode": {
    "name": "ipython",
    "version": 3
   },
   "file_extension": ".py",
   "mimetype": "text/x-python",
   "name": "python",
   "nbconvert_exporter": "python",
   "pygments_lexer": "ipython3",
   "version": "3.13.1"
  }
 },
 "nbformat": 4,
 "nbformat_minor": 2
}
